{
  "nbformat": 4,
  "nbformat_minor": 0,
  "metadata": {
    "colab": {
      "name": "Untitled4.ipynb",
      "provenance": [],
      "include_colab_link": true
    },
    "kernelspec": {
      "name": "python3",
      "display_name": "Python 3"
    }
  },
  "cells": [
    {
      "cell_type": "markdown",
      "metadata": {
        "id": "view-in-github",
        "colab_type": "text"
      },
      "source": [
        "<a href=\"https://colab.research.google.com/github/apandey7/chatbot_Aliza/blob/master/Aliza_iter02_Flask.ipynb\" target=\"_parent\"><img src=\"https://colab.research.google.com/assets/colab-badge.svg\" alt=\"Open In Colab\"/></a>"
      ]
    },
    {
      "cell_type": "code",
      "metadata": {
        "id": "u7v4qRhsnDYm",
        "colab_type": "code",
        "colab": {}
      },
      "source": [
        "!pip3 install chatterbot"
      ],
      "execution_count": 0,
      "outputs": []
    },
    {
      "cell_type": "code",
      "metadata": {
        "id": "hLiQECqKnIvk",
        "colab_type": "code",
        "colab": {}
      },
      "source": [
        "from flask import Flask, render_template, request\n",
        "from chatterbot import ChatBot\n",
        "from chatterbot.trainers import ChatterBotCorpusTrainer\n",
        "\n",
        "app = Flask(__name__)\n",
        "\n",
        "english_bot = ChatBot(\"Aliza\", storage_adapter=\"chatterbot.storage.SQLStorageAdapter\")\n",
        "trainer = ChatterBotCorpusTrainer(english_bot)\n",
        "trainer.train(\"chatterbot.corpus.english\")\n",
        "\n",
        "@app.route(\"/\")\n",
        "def home():\n",
        "    return render_template(\"index.html\")\n",
        "\n",
        "@app.route(\"/get\")\n",
        "def get_bot_response():\n",
        "    userText = request.args.get('msg')\n",
        "    return str(english_bot.get_response(userText))\n",
        "\n",
        "\n",
        "if __name__ == \"__main__\":\n",
        "    app.run()"
      ],
      "execution_count": 0,
      "outputs": []
    }
  ]
}